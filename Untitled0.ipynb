{
  "nbformat": 4,
  "nbformat_minor": 0,
  "metadata": {
    "colab": {
      "provenance": [],
      "collapsed_sections": [],
      "authorship_tag": "ABX9TyOvMLDur/i8/Z81L6YPKc5T",
      "include_colab_link": true
    },
    "kernelspec": {
      "name": "python3",
      "display_name": "Python 3"
    },
    "language_info": {
      "name": "python"
    }
  },
  "cells": [
    {
      "cell_type": "markdown",
      "metadata": {
        "id": "view-in-github",
        "colab_type": "text"
      },
      "source": [
        "<a href=\"https://colab.research.google.com/github/mskshravan1/pyspark_practise/blob/main/Untitled0.ipynb\" target=\"_parent\"><img src=\"https://colab.research.google.com/assets/colab-badge.svg\" alt=\"Open In Colab\"/></a>"
      ]
    },
    {
      "cell_type": "code",
      "execution_count": 12,
      "metadata": {
        "id": "JLF63xMNAuBP"
      },
      "outputs": [],
      "source": [
        "from pyspark.sql import SparkSession"
      ]
    },
    {
      "cell_type": "code",
      "source": [
        "spark = SparkSession.builder.getOrCreate()"
      ],
      "metadata": {
        "id": "Vr-ANENyBGE4"
      },
      "execution_count": 18,
      "outputs": []
    },
    {
      "cell_type": "code",
      "source": [
        "data_df = spark.read.format('csv') \\\n",
        ".options(delimiter=' ',inferschema='True',header='True') \\\n",
        ".load(\"sample_data/datafile.txt\")"
      ],
      "metadata": {
        "id": "fyq4VUicBxkQ"
      },
      "execution_count": 44,
      "outputs": []
    },
    {
      "cell_type": "code",
      "source": [
        "data_df.show() ## csv"
      ],
      "metadata": {
        "colab": {
          "base_uri": "https://localhost:8080/"
        },
        "id": "9G_t5YPCB4bm",
        "outputId": "ac44c9ec-d68b-4e04-ed98-bb461d21b3ec"
      },
      "execution_count": 59,
      "outputs": [
        {
          "output_type": "stream",
          "name": "stdout",
          "text": [
            "+-------+-------------------+-------------------+\n",
            "|User_id|          Timestamp|       session_date|\n",
            "+-------+-------------------+-------------------+\n",
            "|     u1|2017-01-01T05:00:10|2017-01-01 05:00:10|\n",
            "|     u2|2017-01-01T14:40:10|2017-01-01 14:40:10|\n",
            "|     u1|2017-01-01T17:31:17|2017-01-01 17:31:17|\n",
            "|     u3|2017-01-01T18:32:29|2017-01-01 18:32:29|\n",
            "|     u1|2017-01-02T18:37:10|2017-01-02 18:37:10|\n",
            "|     u4|2017-01-02T18:44:04|2017-01-02 18:44:04|\n",
            "|     u2|2017-01-02T23:05:44|2017-01-02 23:05:44|\n",
            "+-------+-------------------+-------------------+\n",
            "\n"
          ]
        }
      ]
    },
    {
      "cell_type": "markdown",
      "source": [],
      "metadata": {
        "id": "JxTe5HDYcXWr"
      }
    },
    {
      "cell_type": "code",
      "source": [
        "import pandas as pd\n",
        "data_df = spark.createDataFrame(\n",
        "    pd.read_csv('sample_data/datafile.txt', delimiter=\" \"))"
      ],
      "metadata": {
        "id": "yTWK-L8MB4eR"
      },
      "execution_count": 54,
      "outputs": []
    },
    {
      "cell_type": "code",
      "source": [
        "from pyspark.sql.types import TimestampType\n",
        "from pyspark.sql import functions as F\n",
        "data_df = data_df.withColumn('session_date', F.to_timestamp('Timestamp',\"yyyy-MM-dd'T'HH:mm:ss\"))\n"
      ],
      "metadata": {
        "id": "CkwJuWwAB4ht"
      },
      "execution_count": 58,
      "outputs": []
    }
  ]
}